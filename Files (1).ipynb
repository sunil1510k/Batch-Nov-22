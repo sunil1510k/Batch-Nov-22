{
 "cells": [
  {
   "cell_type": "code",
   "execution_count": 2,
   "metadata": {},
   "outputs": [
    {
     "name": "stdout",
     "output_type": "stream",
     "text": [
      "Value of x =  10\n",
      "Type of x =  <class 'int'>\n",
      "Memory Allocated to x =  28 bytes\n",
      "Memory address at which x is stored 140719711795264\n"
     ]
    }
   ],
   "source": [
    "import sys\n",
    "\n",
    "x = 10\n",
    "print( 'Value of x = ', x )\n",
    "print( 'Type of x = ', type(x ))\n",
    "print( 'Memory Allocated to x = ', sys.getsizeof(x), \"bytes\" )\n",
    "print('Memory address at which x is stored', id(x))\n"
   ]
  },
  {
   "cell_type": "code",
   "execution_count": 3,
   "metadata": {},
   "outputs": [
    {
     "name": "stdout",
     "output_type": "stream",
     "text": [
      "Value of x =  10.55\n",
      "Type of x =  <class 'float'>\n",
      "Memory Allocated to x =  24 bytes\n",
      "Memory address at which x is stored 2358157450864\n"
     ]
    }
   ],
   "source": [
    "x = 10.55\n",
    "print( 'Value of x = ', x )\n",
    "print( 'Type of x = ', type(x ))\n",
    "print( 'Memory Allocated to x = ', sys.getsizeof(x), \"bytes\" )\n",
    "print('Memory address at which x is stored', id(x))\n"
   ]
  },
  {
   "cell_type": "code",
   "execution_count": 4,
   "metadata": {},
   "outputs": [
    {
     "data": {
      "image/png": "[encoded data removed]",
      "text/plain": [
       "<Figure size 432x288 with 1 Axes>"
      ]
     },
     "metadata": {
      "needs_background": "light"
     },
     "output_type": "display_data"
    }
   ],
   "source": [
    "import matplotlib.pyplot as plt\n",
    "\n",
    "x1 = [2, 4, 6, 8, 10]\n",
    "y1 = [10, 20, 30, 40, 1]\n",
    "\n",
    "plt.plot(x1, y1)\n",
    "plt.show()\n"
   ]
  },
  {
   "cell_type": "code",
   "execution_count": 5,
   "metadata": {},
   "outputs": [
    {
     "name": "stdout",
     "output_type": "stream",
     "text": [
      "Value of x =  10.55\n",
      "Type of x =  <class 'str'>\n",
      "Memory Allocated to x =  54 bytes\n",
      "Memory address at which x is stored 2358156778096\n"
     ]
    }
   ],
   "source": [
    "x = \"10.55\"\n",
    "print( 'Value of x = ', x )\n",
    "print( 'Type of x = ', type(x ))\n",
    "print( 'Memory Allocated to x = ', sys.getsizeof(x), \"bytes\" )\n",
    "print('Memory address at which x is stored', id(x))\n"
   ]
  },
  {
   "cell_type": "code",
   "execution_count": null,
   "metadata": {},
   "outputs": [],
   "source": []
  },
  {
   "cell_type": "code",
   "execution_count": null,
   "metadata": {},
   "outputs": [],
   "source": [
    "# Check if it installs ?\n",
    "!pip install pandas"
   ]
  },
  {
   "cell_type": "code",
   "execution_count": null,
   "metadata": {},
   "outputs": [],
   "source": []
  },
  {
   "cell_type": "code",
   "execution_count": null,
   "metadata": {},
   "outputs": [],
   "source": []
  },
  {
   "cell_type": "code",
   "execution_count": null,
   "metadata": {},
   "outputs": [],
   "source": []
  }
 ],
 "metadata": {
  "kernelspec": {
   "display_name": "Python 3",
   "language": "python",
   "name": "python3"
  },
  "language_info": {
   "codemirror_mode": {
    "name": "ipython",
    "version": 3
   },
   "file_extension": ".py",
   "mimetype": "text/x-python",
   "name": "python",
   "nbconvert_exporter": "python",
   "pygments_lexer": "ipython3",
   "version": "3.8.3"
  }
 },
 "nbformat": 4,
 "nbformat_minor": 4
}
